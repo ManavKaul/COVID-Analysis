{
  "nbformat": 4,
  "nbformat_minor": 0,
  "metadata": {
    "colab": {
      "name": "COVID",
      "provenance": [],
      "collapsed_sections": [],
      "authorship_tag": "ABX9TyMeZWWWkDtFz7A04Fj2GBr/",
      "include_colab_link": true
    },
    "kernelspec": {
      "name": "python3",
      "display_name": "Python 3"
    }
  },
  "cells": [
    {
      "cell_type": "markdown",
      "metadata": {
        "id": "view-in-github",
        "colab_type": "text"
      },
      "source": [
        "<a href=\"https://colab.research.google.com/github/ManavKaul/COVID-Analysis/blob/main/COVID.ipynb\" target=\"_parent\"><img src=\"https://colab.research.google.com/assets/colab-badge.svg\" alt=\"Open In Colab\"/></a>"
      ]
    },
    {
      "cell_type": "markdown",
      "metadata": {
        "id": "K8R6xmWdH10I"
      },
      "source": [
        "## Corona Statistics till 23 October 2020"
      ]
    },
    {
      "cell_type": "code",
      "metadata": {
        "id": "zj2sKvQJ1wUa"
      },
      "source": [
        "import numpy as np\n",
        "import pandas as pd\n",
        "import matplotlib.pyplot as plt"
      ],
      "execution_count": 81,
      "outputs": []
    },
    {
      "cell_type": "code",
      "metadata": {
        "id": "o9v7tm-n2Hco"
      },
      "source": [
        "#Importing the data provided by WHO\n",
        "df=pd.read_csv('total_cases.csv')"
      ],
      "execution_count": 82,
      "outputs": []
    },
    {
      "cell_type": "code",
      "metadata": {
        "id": "FWyj1z362sWO",
        "outputId": "164c3691-df7a-4dd9-c6c3-0973e33c857d",
        "colab": {
          "base_uri": "https://localhost:8080/",
          "height": 389
        }
      },
      "source": [
        "#Reading the top 5 rows of data\n",
        "df.head()"
      ],
      "execution_count": 83,
      "outputs": [
        {
          "output_type": "execute_result",
          "data": {
            "text/html": [
              "<div>\n",
              "<style scoped>\n",
              "    .dataframe tbody tr th:only-of-type {\n",
              "        vertical-align: middle;\n",
              "    }\n",
              "\n",
              "    .dataframe tbody tr th {\n",
              "        vertical-align: top;\n",
              "    }\n",
              "\n",
              "    .dataframe thead th {\n",
              "        text-align: right;\n",
              "    }\n",
              "</style>\n",
              "<table border=\"1\" class=\"dataframe\">\n",
              "  <thead>\n",
              "    <tr style=\"text-align: right;\">\n",
              "      <th></th>\n",
              "      <th>date</th>\n",
              "      <th>World</th>\n",
              "      <th>Afghanistan</th>\n",
              "      <th>Albania</th>\n",
              "      <th>Algeria</th>\n",
              "      <th>Andorra</th>\n",
              "      <th>Angola</th>\n",
              "      <th>Anguilla</th>\n",
              "      <th>Antigua and Barbuda</th>\n",
              "      <th>Argentina</th>\n",
              "      <th>Armenia</th>\n",
              "      <th>Aruba</th>\n",
              "      <th>Australia</th>\n",
              "      <th>Austria</th>\n",
              "      <th>Azerbaijan</th>\n",
              "      <th>Bahamas</th>\n",
              "      <th>Bahrain</th>\n",
              "      <th>Bangladesh</th>\n",
              "      <th>Barbados</th>\n",
              "      <th>Belarus</th>\n",
              "      <th>Belgium</th>\n",
              "      <th>Belize</th>\n",
              "      <th>Benin</th>\n",
              "      <th>Bermuda</th>\n",
              "      <th>Bhutan</th>\n",
              "      <th>Bolivia</th>\n",
              "      <th>Bonaire Sint Eustatius and Saba</th>\n",
              "      <th>Bosnia and Herzegovina</th>\n",
              "      <th>Botswana</th>\n",
              "      <th>Brazil</th>\n",
              "      <th>British Virgin Islands</th>\n",
              "      <th>Brunei</th>\n",
              "      <th>Bulgaria</th>\n",
              "      <th>Burkina Faso</th>\n",
              "      <th>Burundi</th>\n",
              "      <th>Cambodia</th>\n",
              "      <th>Cameroon</th>\n",
              "      <th>Canada</th>\n",
              "      <th>Cape Verde</th>\n",
              "      <th>Cayman Islands</th>\n",
              "      <th>...</th>\n",
              "      <th>Slovakia</th>\n",
              "      <th>Slovenia</th>\n",
              "      <th>Solomon Islands</th>\n",
              "      <th>Somalia</th>\n",
              "      <th>South Africa</th>\n",
              "      <th>South Korea</th>\n",
              "      <th>South Sudan</th>\n",
              "      <th>Spain</th>\n",
              "      <th>Sri Lanka</th>\n",
              "      <th>Sudan</th>\n",
              "      <th>Suriname</th>\n",
              "      <th>Swaziland</th>\n",
              "      <th>Sweden</th>\n",
              "      <th>Switzerland</th>\n",
              "      <th>Syria</th>\n",
              "      <th>Taiwan</th>\n",
              "      <th>Tajikistan</th>\n",
              "      <th>Tanzania</th>\n",
              "      <th>Thailand</th>\n",
              "      <th>Timor</th>\n",
              "      <th>Togo</th>\n",
              "      <th>Trinidad and Tobago</th>\n",
              "      <th>Tunisia</th>\n",
              "      <th>Turkey</th>\n",
              "      <th>Turks and Caicos Islands</th>\n",
              "      <th>Uganda</th>\n",
              "      <th>Ukraine</th>\n",
              "      <th>United Arab Emirates</th>\n",
              "      <th>United Kingdom</th>\n",
              "      <th>United States</th>\n",
              "      <th>United States Virgin Islands</th>\n",
              "      <th>Uruguay</th>\n",
              "      <th>Uzbekistan</th>\n",
              "      <th>Vatican</th>\n",
              "      <th>Venezuela</th>\n",
              "      <th>Vietnam</th>\n",
              "      <th>Western Sahara</th>\n",
              "      <th>Yemen</th>\n",
              "      <th>Zambia</th>\n",
              "      <th>Zimbabwe</th>\n",
              "    </tr>\n",
              "  </thead>\n",
              "  <tbody>\n",
              "    <tr>\n",
              "      <th>0</th>\n",
              "      <td>2019-12-31</td>\n",
              "      <td>27</td>\n",
              "      <td>NaN</td>\n",
              "      <td>NaN</td>\n",
              "      <td>NaN</td>\n",
              "      <td>NaN</td>\n",
              "      <td>NaN</td>\n",
              "      <td>NaN</td>\n",
              "      <td>NaN</td>\n",
              "      <td>NaN</td>\n",
              "      <td>NaN</td>\n",
              "      <td>NaN</td>\n",
              "      <td>NaN</td>\n",
              "      <td>NaN</td>\n",
              "      <td>NaN</td>\n",
              "      <td>NaN</td>\n",
              "      <td>NaN</td>\n",
              "      <td>NaN</td>\n",
              "      <td>NaN</td>\n",
              "      <td>NaN</td>\n",
              "      <td>NaN</td>\n",
              "      <td>NaN</td>\n",
              "      <td>NaN</td>\n",
              "      <td>NaN</td>\n",
              "      <td>NaN</td>\n",
              "      <td>NaN</td>\n",
              "      <td>NaN</td>\n",
              "      <td>NaN</td>\n",
              "      <td>NaN</td>\n",
              "      <td>NaN</td>\n",
              "      <td>NaN</td>\n",
              "      <td>NaN</td>\n",
              "      <td>NaN</td>\n",
              "      <td>NaN</td>\n",
              "      <td>NaN</td>\n",
              "      <td>NaN</td>\n",
              "      <td>NaN</td>\n",
              "      <td>NaN</td>\n",
              "      <td>NaN</td>\n",
              "      <td>NaN</td>\n",
              "      <td>...</td>\n",
              "      <td>NaN</td>\n",
              "      <td>NaN</td>\n",
              "      <td>NaN</td>\n",
              "      <td>NaN</td>\n",
              "      <td>NaN</td>\n",
              "      <td>NaN</td>\n",
              "      <td>NaN</td>\n",
              "      <td>NaN</td>\n",
              "      <td>NaN</td>\n",
              "      <td>NaN</td>\n",
              "      <td>NaN</td>\n",
              "      <td>NaN</td>\n",
              "      <td>NaN</td>\n",
              "      <td>NaN</td>\n",
              "      <td>NaN</td>\n",
              "      <td>NaN</td>\n",
              "      <td>NaN</td>\n",
              "      <td>NaN</td>\n",
              "      <td>NaN</td>\n",
              "      <td>NaN</td>\n",
              "      <td>NaN</td>\n",
              "      <td>NaN</td>\n",
              "      <td>NaN</td>\n",
              "      <td>NaN</td>\n",
              "      <td>NaN</td>\n",
              "      <td>NaN</td>\n",
              "      <td>NaN</td>\n",
              "      <td>NaN</td>\n",
              "      <td>NaN</td>\n",
              "      <td>NaN</td>\n",
              "      <td>NaN</td>\n",
              "      <td>NaN</td>\n",
              "      <td>NaN</td>\n",
              "      <td>NaN</td>\n",
              "      <td>NaN</td>\n",
              "      <td>NaN</td>\n",
              "      <td>NaN</td>\n",
              "      <td>NaN</td>\n",
              "      <td>NaN</td>\n",
              "      <td>NaN</td>\n",
              "    </tr>\n",
              "    <tr>\n",
              "      <th>1</th>\n",
              "      <td>2020-01-01</td>\n",
              "      <td>27</td>\n",
              "      <td>NaN</td>\n",
              "      <td>NaN</td>\n",
              "      <td>NaN</td>\n",
              "      <td>NaN</td>\n",
              "      <td>NaN</td>\n",
              "      <td>NaN</td>\n",
              "      <td>NaN</td>\n",
              "      <td>NaN</td>\n",
              "      <td>NaN</td>\n",
              "      <td>NaN</td>\n",
              "      <td>NaN</td>\n",
              "      <td>NaN</td>\n",
              "      <td>NaN</td>\n",
              "      <td>NaN</td>\n",
              "      <td>NaN</td>\n",
              "      <td>NaN</td>\n",
              "      <td>NaN</td>\n",
              "      <td>NaN</td>\n",
              "      <td>NaN</td>\n",
              "      <td>NaN</td>\n",
              "      <td>NaN</td>\n",
              "      <td>NaN</td>\n",
              "      <td>NaN</td>\n",
              "      <td>NaN</td>\n",
              "      <td>NaN</td>\n",
              "      <td>NaN</td>\n",
              "      <td>NaN</td>\n",
              "      <td>NaN</td>\n",
              "      <td>NaN</td>\n",
              "      <td>NaN</td>\n",
              "      <td>NaN</td>\n",
              "      <td>NaN</td>\n",
              "      <td>NaN</td>\n",
              "      <td>NaN</td>\n",
              "      <td>NaN</td>\n",
              "      <td>NaN</td>\n",
              "      <td>NaN</td>\n",
              "      <td>NaN</td>\n",
              "      <td>...</td>\n",
              "      <td>NaN</td>\n",
              "      <td>NaN</td>\n",
              "      <td>NaN</td>\n",
              "      <td>NaN</td>\n",
              "      <td>NaN</td>\n",
              "      <td>NaN</td>\n",
              "      <td>NaN</td>\n",
              "      <td>NaN</td>\n",
              "      <td>NaN</td>\n",
              "      <td>NaN</td>\n",
              "      <td>NaN</td>\n",
              "      <td>NaN</td>\n",
              "      <td>NaN</td>\n",
              "      <td>NaN</td>\n",
              "      <td>NaN</td>\n",
              "      <td>NaN</td>\n",
              "      <td>NaN</td>\n",
              "      <td>NaN</td>\n",
              "      <td>NaN</td>\n",
              "      <td>NaN</td>\n",
              "      <td>NaN</td>\n",
              "      <td>NaN</td>\n",
              "      <td>NaN</td>\n",
              "      <td>NaN</td>\n",
              "      <td>NaN</td>\n",
              "      <td>NaN</td>\n",
              "      <td>NaN</td>\n",
              "      <td>NaN</td>\n",
              "      <td>NaN</td>\n",
              "      <td>NaN</td>\n",
              "      <td>NaN</td>\n",
              "      <td>NaN</td>\n",
              "      <td>NaN</td>\n",
              "      <td>NaN</td>\n",
              "      <td>NaN</td>\n",
              "      <td>NaN</td>\n",
              "      <td>NaN</td>\n",
              "      <td>NaN</td>\n",
              "      <td>NaN</td>\n",
              "      <td>NaN</td>\n",
              "    </tr>\n",
              "    <tr>\n",
              "      <th>2</th>\n",
              "      <td>2020-01-02</td>\n",
              "      <td>27</td>\n",
              "      <td>NaN</td>\n",
              "      <td>NaN</td>\n",
              "      <td>NaN</td>\n",
              "      <td>NaN</td>\n",
              "      <td>NaN</td>\n",
              "      <td>NaN</td>\n",
              "      <td>NaN</td>\n",
              "      <td>NaN</td>\n",
              "      <td>NaN</td>\n",
              "      <td>NaN</td>\n",
              "      <td>NaN</td>\n",
              "      <td>NaN</td>\n",
              "      <td>NaN</td>\n",
              "      <td>NaN</td>\n",
              "      <td>NaN</td>\n",
              "      <td>NaN</td>\n",
              "      <td>NaN</td>\n",
              "      <td>NaN</td>\n",
              "      <td>NaN</td>\n",
              "      <td>NaN</td>\n",
              "      <td>NaN</td>\n",
              "      <td>NaN</td>\n",
              "      <td>NaN</td>\n",
              "      <td>NaN</td>\n",
              "      <td>NaN</td>\n",
              "      <td>NaN</td>\n",
              "      <td>NaN</td>\n",
              "      <td>NaN</td>\n",
              "      <td>NaN</td>\n",
              "      <td>NaN</td>\n",
              "      <td>NaN</td>\n",
              "      <td>NaN</td>\n",
              "      <td>NaN</td>\n",
              "      <td>NaN</td>\n",
              "      <td>NaN</td>\n",
              "      <td>NaN</td>\n",
              "      <td>NaN</td>\n",
              "      <td>NaN</td>\n",
              "      <td>...</td>\n",
              "      <td>NaN</td>\n",
              "      <td>NaN</td>\n",
              "      <td>NaN</td>\n",
              "      <td>NaN</td>\n",
              "      <td>NaN</td>\n",
              "      <td>NaN</td>\n",
              "      <td>NaN</td>\n",
              "      <td>NaN</td>\n",
              "      <td>NaN</td>\n",
              "      <td>NaN</td>\n",
              "      <td>NaN</td>\n",
              "      <td>NaN</td>\n",
              "      <td>NaN</td>\n",
              "      <td>NaN</td>\n",
              "      <td>NaN</td>\n",
              "      <td>NaN</td>\n",
              "      <td>NaN</td>\n",
              "      <td>NaN</td>\n",
              "      <td>NaN</td>\n",
              "      <td>NaN</td>\n",
              "      <td>NaN</td>\n",
              "      <td>NaN</td>\n",
              "      <td>NaN</td>\n",
              "      <td>NaN</td>\n",
              "      <td>NaN</td>\n",
              "      <td>NaN</td>\n",
              "      <td>NaN</td>\n",
              "      <td>NaN</td>\n",
              "      <td>NaN</td>\n",
              "      <td>NaN</td>\n",
              "      <td>NaN</td>\n",
              "      <td>NaN</td>\n",
              "      <td>NaN</td>\n",
              "      <td>NaN</td>\n",
              "      <td>NaN</td>\n",
              "      <td>NaN</td>\n",
              "      <td>NaN</td>\n",
              "      <td>NaN</td>\n",
              "      <td>NaN</td>\n",
              "      <td>NaN</td>\n",
              "    </tr>\n",
              "    <tr>\n",
              "      <th>3</th>\n",
              "      <td>2020-01-03</td>\n",
              "      <td>44</td>\n",
              "      <td>NaN</td>\n",
              "      <td>NaN</td>\n",
              "      <td>NaN</td>\n",
              "      <td>NaN</td>\n",
              "      <td>NaN</td>\n",
              "      <td>NaN</td>\n",
              "      <td>NaN</td>\n",
              "      <td>NaN</td>\n",
              "      <td>NaN</td>\n",
              "      <td>NaN</td>\n",
              "      <td>NaN</td>\n",
              "      <td>NaN</td>\n",
              "      <td>NaN</td>\n",
              "      <td>NaN</td>\n",
              "      <td>NaN</td>\n",
              "      <td>NaN</td>\n",
              "      <td>NaN</td>\n",
              "      <td>NaN</td>\n",
              "      <td>NaN</td>\n",
              "      <td>NaN</td>\n",
              "      <td>NaN</td>\n",
              "      <td>NaN</td>\n",
              "      <td>NaN</td>\n",
              "      <td>NaN</td>\n",
              "      <td>NaN</td>\n",
              "      <td>NaN</td>\n",
              "      <td>NaN</td>\n",
              "      <td>NaN</td>\n",
              "      <td>NaN</td>\n",
              "      <td>NaN</td>\n",
              "      <td>NaN</td>\n",
              "      <td>NaN</td>\n",
              "      <td>NaN</td>\n",
              "      <td>NaN</td>\n",
              "      <td>NaN</td>\n",
              "      <td>NaN</td>\n",
              "      <td>NaN</td>\n",
              "      <td>NaN</td>\n",
              "      <td>...</td>\n",
              "      <td>NaN</td>\n",
              "      <td>NaN</td>\n",
              "      <td>NaN</td>\n",
              "      <td>NaN</td>\n",
              "      <td>NaN</td>\n",
              "      <td>NaN</td>\n",
              "      <td>NaN</td>\n",
              "      <td>NaN</td>\n",
              "      <td>NaN</td>\n",
              "      <td>NaN</td>\n",
              "      <td>NaN</td>\n",
              "      <td>NaN</td>\n",
              "      <td>NaN</td>\n",
              "      <td>NaN</td>\n",
              "      <td>NaN</td>\n",
              "      <td>NaN</td>\n",
              "      <td>NaN</td>\n",
              "      <td>NaN</td>\n",
              "      <td>NaN</td>\n",
              "      <td>NaN</td>\n",
              "      <td>NaN</td>\n",
              "      <td>NaN</td>\n",
              "      <td>NaN</td>\n",
              "      <td>NaN</td>\n",
              "      <td>NaN</td>\n",
              "      <td>NaN</td>\n",
              "      <td>NaN</td>\n",
              "      <td>NaN</td>\n",
              "      <td>NaN</td>\n",
              "      <td>NaN</td>\n",
              "      <td>NaN</td>\n",
              "      <td>NaN</td>\n",
              "      <td>NaN</td>\n",
              "      <td>NaN</td>\n",
              "      <td>NaN</td>\n",
              "      <td>NaN</td>\n",
              "      <td>NaN</td>\n",
              "      <td>NaN</td>\n",
              "      <td>NaN</td>\n",
              "      <td>NaN</td>\n",
              "    </tr>\n",
              "    <tr>\n",
              "      <th>4</th>\n",
              "      <td>2020-01-04</td>\n",
              "      <td>44</td>\n",
              "      <td>NaN</td>\n",
              "      <td>NaN</td>\n",
              "      <td>NaN</td>\n",
              "      <td>NaN</td>\n",
              "      <td>NaN</td>\n",
              "      <td>NaN</td>\n",
              "      <td>NaN</td>\n",
              "      <td>NaN</td>\n",
              "      <td>NaN</td>\n",
              "      <td>NaN</td>\n",
              "      <td>NaN</td>\n",
              "      <td>NaN</td>\n",
              "      <td>NaN</td>\n",
              "      <td>NaN</td>\n",
              "      <td>NaN</td>\n",
              "      <td>NaN</td>\n",
              "      <td>NaN</td>\n",
              "      <td>NaN</td>\n",
              "      <td>NaN</td>\n",
              "      <td>NaN</td>\n",
              "      <td>NaN</td>\n",
              "      <td>NaN</td>\n",
              "      <td>NaN</td>\n",
              "      <td>NaN</td>\n",
              "      <td>NaN</td>\n",
              "      <td>NaN</td>\n",
              "      <td>NaN</td>\n",
              "      <td>NaN</td>\n",
              "      <td>NaN</td>\n",
              "      <td>NaN</td>\n",
              "      <td>NaN</td>\n",
              "      <td>NaN</td>\n",
              "      <td>NaN</td>\n",
              "      <td>NaN</td>\n",
              "      <td>NaN</td>\n",
              "      <td>NaN</td>\n",
              "      <td>NaN</td>\n",
              "      <td>NaN</td>\n",
              "      <td>...</td>\n",
              "      <td>NaN</td>\n",
              "      <td>NaN</td>\n",
              "      <td>NaN</td>\n",
              "      <td>NaN</td>\n",
              "      <td>NaN</td>\n",
              "      <td>NaN</td>\n",
              "      <td>NaN</td>\n",
              "      <td>NaN</td>\n",
              "      <td>NaN</td>\n",
              "      <td>NaN</td>\n",
              "      <td>NaN</td>\n",
              "      <td>NaN</td>\n",
              "      <td>NaN</td>\n",
              "      <td>NaN</td>\n",
              "      <td>NaN</td>\n",
              "      <td>NaN</td>\n",
              "      <td>NaN</td>\n",
              "      <td>NaN</td>\n",
              "      <td>NaN</td>\n",
              "      <td>NaN</td>\n",
              "      <td>NaN</td>\n",
              "      <td>NaN</td>\n",
              "      <td>NaN</td>\n",
              "      <td>NaN</td>\n",
              "      <td>NaN</td>\n",
              "      <td>NaN</td>\n",
              "      <td>NaN</td>\n",
              "      <td>NaN</td>\n",
              "      <td>NaN</td>\n",
              "      <td>NaN</td>\n",
              "      <td>NaN</td>\n",
              "      <td>NaN</td>\n",
              "      <td>NaN</td>\n",
              "      <td>NaN</td>\n",
              "      <td>NaN</td>\n",
              "      <td>NaN</td>\n",
              "      <td>NaN</td>\n",
              "      <td>NaN</td>\n",
              "      <td>NaN</td>\n",
              "      <td>NaN</td>\n",
              "    </tr>\n",
              "  </tbody>\n",
              "</table>\n",
              "<p>5 rows × 213 columns</p>\n",
              "</div>"
            ],
            "text/plain": [
              "         date  World  Afghanistan  ...  Yemen  Zambia  Zimbabwe\n",
              "0  2019-12-31     27          NaN  ...    NaN     NaN       NaN\n",
              "1  2020-01-01     27          NaN  ...    NaN     NaN       NaN\n",
              "2  2020-01-02     27          NaN  ...    NaN     NaN       NaN\n",
              "3  2020-01-03     44          NaN  ...    NaN     NaN       NaN\n",
              "4  2020-01-04     44          NaN  ...    NaN     NaN       NaN\n",
              "\n",
              "[5 rows x 213 columns]"
            ]
          },
          "metadata": {
            "tags": []
          },
          "execution_count": 83
        }
      ]
    },
    {
      "cell_type": "markdown",
      "metadata": {
        "id": "MGASJxeb3H--"
      },
      "source": [
        "Given data shows number cases confirmed by all states with respect to the date\n",
        "\n",
        "The Data starts from 31 December 2019, back when number of recorded cases was only 27 and was limited solely to China "
      ]
    },
    {
      "cell_type": "code",
      "metadata": {
        "id": "cu-cPbzm3vj1",
        "outputId": "e4409256-c3cf-4ee8-f48d-a3f98dabf31a",
        "colab": {
          "base_uri": "https://localhost:8080/",
          "height": 389
        }
      },
      "source": [
        "#Reading the last 5 rows of data\n",
        "df.tail()"
      ],
      "execution_count": 84,
      "outputs": [
        {
          "output_type": "execute_result",
          "data": {
            "text/html": [
              "<div>\n",
              "<style scoped>\n",
              "    .dataframe tbody tr th:only-of-type {\n",
              "        vertical-align: middle;\n",
              "    }\n",
              "\n",
              "    .dataframe tbody tr th {\n",
              "        vertical-align: top;\n",
              "    }\n",
              "\n",
              "    .dataframe thead th {\n",
              "        text-align: right;\n",
              "    }\n",
              "</style>\n",
              "<table border=\"1\" class=\"dataframe\">\n",
              "  <thead>\n",
              "    <tr style=\"text-align: right;\">\n",
              "      <th></th>\n",
              "      <th>date</th>\n",
              "      <th>World</th>\n",
              "      <th>Afghanistan</th>\n",
              "      <th>Albania</th>\n",
              "      <th>Algeria</th>\n",
              "      <th>Andorra</th>\n",
              "      <th>Angola</th>\n",
              "      <th>Anguilla</th>\n",
              "      <th>Antigua and Barbuda</th>\n",
              "      <th>Argentina</th>\n",
              "      <th>Armenia</th>\n",
              "      <th>Aruba</th>\n",
              "      <th>Australia</th>\n",
              "      <th>Austria</th>\n",
              "      <th>Azerbaijan</th>\n",
              "      <th>Bahamas</th>\n",
              "      <th>Bahrain</th>\n",
              "      <th>Bangladesh</th>\n",
              "      <th>Barbados</th>\n",
              "      <th>Belarus</th>\n",
              "      <th>Belgium</th>\n",
              "      <th>Belize</th>\n",
              "      <th>Benin</th>\n",
              "      <th>Bermuda</th>\n",
              "      <th>Bhutan</th>\n",
              "      <th>Bolivia</th>\n",
              "      <th>Bonaire Sint Eustatius and Saba</th>\n",
              "      <th>Bosnia and Herzegovina</th>\n",
              "      <th>Botswana</th>\n",
              "      <th>Brazil</th>\n",
              "      <th>British Virgin Islands</th>\n",
              "      <th>Brunei</th>\n",
              "      <th>Bulgaria</th>\n",
              "      <th>Burkina Faso</th>\n",
              "      <th>Burundi</th>\n",
              "      <th>Cambodia</th>\n",
              "      <th>Cameroon</th>\n",
              "      <th>Canada</th>\n",
              "      <th>Cape Verde</th>\n",
              "      <th>Cayman Islands</th>\n",
              "      <th>...</th>\n",
              "      <th>Slovakia</th>\n",
              "      <th>Slovenia</th>\n",
              "      <th>Solomon Islands</th>\n",
              "      <th>Somalia</th>\n",
              "      <th>South Africa</th>\n",
              "      <th>South Korea</th>\n",
              "      <th>South Sudan</th>\n",
              "      <th>Spain</th>\n",
              "      <th>Sri Lanka</th>\n",
              "      <th>Sudan</th>\n",
              "      <th>Suriname</th>\n",
              "      <th>Swaziland</th>\n",
              "      <th>Sweden</th>\n",
              "      <th>Switzerland</th>\n",
              "      <th>Syria</th>\n",
              "      <th>Taiwan</th>\n",
              "      <th>Tajikistan</th>\n",
              "      <th>Tanzania</th>\n",
              "      <th>Thailand</th>\n",
              "      <th>Timor</th>\n",
              "      <th>Togo</th>\n",
              "      <th>Trinidad and Tobago</th>\n",
              "      <th>Tunisia</th>\n",
              "      <th>Turkey</th>\n",
              "      <th>Turks and Caicos Islands</th>\n",
              "      <th>Uganda</th>\n",
              "      <th>Ukraine</th>\n",
              "      <th>United Arab Emirates</th>\n",
              "      <th>United Kingdom</th>\n",
              "      <th>United States</th>\n",
              "      <th>United States Virgin Islands</th>\n",
              "      <th>Uruguay</th>\n",
              "      <th>Uzbekistan</th>\n",
              "      <th>Vatican</th>\n",
              "      <th>Venezuela</th>\n",
              "      <th>Vietnam</th>\n",
              "      <th>Western Sahara</th>\n",
              "      <th>Yemen</th>\n",
              "      <th>Zambia</th>\n",
              "      <th>Zimbabwe</th>\n",
              "    </tr>\n",
              "  </thead>\n",
              "  <tbody>\n",
              "    <tr>\n",
              "      <th>293</th>\n",
              "      <td>2020-10-19</td>\n",
              "      <td>40168891</td>\n",
              "      <td>40200.0</td>\n",
              "      <td>17055.0</td>\n",
              "      <td>54402.0</td>\n",
              "      <td>3377.0</td>\n",
              "      <td>7462.0</td>\n",
              "      <td>3.0</td>\n",
              "      <td>119.0</td>\n",
              "      <td>989667.0</td>\n",
              "      <td>64694.0</td>\n",
              "      <td>4322.0</td>\n",
              "      <td>27390.0</td>\n",
              "      <td>65557.0</td>\n",
              "      <td>44964.0</td>\n",
              "      <td>5703.0</td>\n",
              "      <td>77902.0</td>\n",
              "      <td>388569.0</td>\n",
              "      <td>222.0</td>\n",
              "      <td>87698.0</td>\n",
              "      <td>244442.0</td>\n",
              "      <td>2813.0</td>\n",
              "      <td>2496.0</td>\n",
              "      <td>185.0</td>\n",
              "      <td>327.0</td>\n",
              "      <td>139771.0</td>\n",
              "      <td>150.0</td>\n",
              "      <td>33561.0</td>\n",
              "      <td>5242.0</td>\n",
              "      <td>5235344.0</td>\n",
              "      <td>71.0</td>\n",
              "      <td>147.0</td>\n",
              "      <td>29503.0</td>\n",
              "      <td>2381.0</td>\n",
              "      <td>542.0</td>\n",
              "      <td>283.0</td>\n",
              "      <td>21441.0</td>\n",
              "      <td>198148.0</td>\n",
              "      <td>7752.0</td>\n",
              "      <td>233.0</td>\n",
              "      <td>...</td>\n",
              "      <td>29835.0</td>\n",
              "      <td>13144.0</td>\n",
              "      <td>3.0</td>\n",
              "      <td>3864.0</td>\n",
              "      <td>703793.0</td>\n",
              "      <td>25275.0</td>\n",
              "      <td>2842.0</td>\n",
              "      <td>974449.0</td>\n",
              "      <td>5538.0</td>\n",
              "      <td>13691.0</td>\n",
              "      <td>5130.0</td>\n",
              "      <td>5780.0</td>\n",
              "      <td>105699.0</td>\n",
              "      <td>74422.0</td>\n",
              "      <td>5077.0</td>\n",
              "      <td>540.0</td>\n",
              "      <td>10493.0</td>\n",
              "      <td>509.0</td>\n",
              "      <td>3691.0</td>\n",
              "      <td>29.0</td>\n",
              "      <td>2057.0</td>\n",
              "      <td>5297.0</td>\n",
              "      <td>40542.0</td>\n",
              "      <td>347493.0</td>\n",
              "      <td>698.0</td>\n",
              "      <td>10590.0</td>\n",
              "      <td>303638.0</td>\n",
              "      <td>115602.0</td>\n",
              "      <td>722409.0</td>\n",
              "      <td>8154595.0</td>\n",
              "      <td>1335.0</td>\n",
              "      <td>2531.0</td>\n",
              "      <td>63430.0</td>\n",
              "      <td>26.0</td>\n",
              "      <td>86636.0</td>\n",
              "      <td>1134.0</td>\n",
              "      <td>766.0</td>\n",
              "      <td>2059.0</td>\n",
              "      <td>15853.0</td>\n",
              "      <td>8147.0</td>\n",
              "    </tr>\n",
              "    <tr>\n",
              "      <th>294</th>\n",
              "      <td>2020-10-20</td>\n",
              "      <td>40515637</td>\n",
              "      <td>40287.0</td>\n",
              "      <td>17350.0</td>\n",
              "      <td>54616.0</td>\n",
              "      <td>3623.0</td>\n",
              "      <td>7622.0</td>\n",
              "      <td>3.0</td>\n",
              "      <td>119.0</td>\n",
              "      <td>1002649.0</td>\n",
              "      <td>65460.0</td>\n",
              "      <td>4334.0</td>\n",
              "      <td>27399.0</td>\n",
              "      <td>66611.0</td>\n",
              "      <td>45295.0</td>\n",
              "      <td>5773.0</td>\n",
              "      <td>78224.0</td>\n",
              "      <td>390206.0</td>\n",
              "      <td>222.0</td>\n",
              "      <td>88290.0</td>\n",
              "      <td>257172.0</td>\n",
              "      <td>2833.0</td>\n",
              "      <td>2496.0</td>\n",
              "      <td>185.0</td>\n",
              "      <td>330.0</td>\n",
              "      <td>139890.0</td>\n",
              "      <td>150.0</td>\n",
              "      <td>34661.0</td>\n",
              "      <td>5609.0</td>\n",
              "      <td>5250727.0</td>\n",
              "      <td>72.0</td>\n",
              "      <td>147.0</td>\n",
              "      <td>30527.0</td>\n",
              "      <td>2387.0</td>\n",
              "      <td>549.0</td>\n",
              "      <td>285.0</td>\n",
              "      <td>21506.0</td>\n",
              "      <td>201437.0</td>\n",
              "      <td>7800.0</td>\n",
              "      <td>235.0</td>\n",
              "      <td>...</td>\n",
              "      <td>30695.0</td>\n",
              "      <td>13681.0</td>\n",
              "      <td>3.0</td>\n",
              "      <td>3890.0</td>\n",
              "      <td>705254.0</td>\n",
              "      <td>25333.0</td>\n",
              "      <td>2847.0</td>\n",
              "      <td>988322.0</td>\n",
              "      <td>5625.0</td>\n",
              "      <td>13697.0</td>\n",
              "      <td>5133.0</td>\n",
              "      <td>5788.0</td>\n",
              "      <td>106470.0</td>\n",
              "      <td>83159.0</td>\n",
              "      <td>5134.0</td>\n",
              "      <td>540.0</td>\n",
              "      <td>10533.0</td>\n",
              "      <td>509.0</td>\n",
              "      <td>3700.0</td>\n",
              "      <td>29.0</td>\n",
              "      <td>2071.0</td>\n",
              "      <td>5298.0</td>\n",
              "      <td>42727.0</td>\n",
              "      <td>349519.0</td>\n",
              "      <td>698.0</td>\n",
              "      <td>10691.0</td>\n",
              "      <td>309107.0</td>\n",
              "      <td>116517.0</td>\n",
              "      <td>741212.0</td>\n",
              "      <td>8214755.0</td>\n",
              "      <td>1336.0</td>\n",
              "      <td>2560.0</td>\n",
              "      <td>63737.0</td>\n",
              "      <td>26.0</td>\n",
              "      <td>86636.0</td>\n",
              "      <td>1140.0</td>\n",
              "      <td>766.0</td>\n",
              "      <td>2060.0</td>\n",
              "      <td>15897.0</td>\n",
              "      <td>8159.0</td>\n",
              "    </tr>\n",
              "    <tr>\n",
              "      <th>295</th>\n",
              "      <td>2020-10-21</td>\n",
              "      <td>40901615</td>\n",
              "      <td>40375.0</td>\n",
              "      <td>17651.0</td>\n",
              "      <td>54839.0</td>\n",
              "      <td>3623.0</td>\n",
              "      <td>7829.0</td>\n",
              "      <td>3.0</td>\n",
              "      <td>119.0</td>\n",
              "      <td>1018986.0</td>\n",
              "      <td>66694.0</td>\n",
              "      <td>4355.0</td>\n",
              "      <td>27430.0</td>\n",
              "      <td>68414.0</td>\n",
              "      <td>45879.0</td>\n",
              "      <td>5923.0</td>\n",
              "      <td>78533.0</td>\n",
              "      <td>391589.0</td>\n",
              "      <td>222.0</td>\n",
              "      <td>88909.0</td>\n",
              "      <td>267443.0</td>\n",
              "      <td>2886.0</td>\n",
              "      <td>2496.0</td>\n",
              "      <td>188.0</td>\n",
              "      <td>331.0</td>\n",
              "      <td>140037.0</td>\n",
              "      <td>150.0</td>\n",
              "      <td>35389.0</td>\n",
              "      <td>5609.0</td>\n",
              "      <td>5273954.0</td>\n",
              "      <td>72.0</td>\n",
              "      <td>147.0</td>\n",
              "      <td>31863.0</td>\n",
              "      <td>2406.0</td>\n",
              "      <td>550.0</td>\n",
              "      <td>286.0</td>\n",
              "      <td>21570.0</td>\n",
              "      <td>203688.0</td>\n",
              "      <td>7901.0</td>\n",
              "      <td>235.0</td>\n",
              "      <td>...</td>\n",
              "      <td>31400.0</td>\n",
              "      <td>14475.0</td>\n",
              "      <td>3.0</td>\n",
              "      <td>3890.0</td>\n",
              "      <td>706304.0</td>\n",
              "      <td>25424.0</td>\n",
              "      <td>2847.0</td>\n",
              "      <td>1005295.0</td>\n",
              "      <td>5811.0</td>\n",
              "      <td>13724.0</td>\n",
              "      <td>5144.0</td>\n",
              "      <td>5800.0</td>\n",
              "      <td>107763.0</td>\n",
              "      <td>86167.0</td>\n",
              "      <td>5180.0</td>\n",
              "      <td>543.0</td>\n",
              "      <td>10574.0</td>\n",
              "      <td>509.0</td>\n",
              "      <td>3709.0</td>\n",
              "      <td>29.0</td>\n",
              "      <td>2104.0</td>\n",
              "      <td>5333.0</td>\n",
              "      <td>44450.0</td>\n",
              "      <td>351413.0</td>\n",
              "      <td>698.0</td>\n",
              "      <td>10788.0</td>\n",
              "      <td>309107.0</td>\n",
              "      <td>117594.0</td>\n",
              "      <td>762542.0</td>\n",
              "      <td>8273304.0</td>\n",
              "      <td>1337.0</td>\n",
              "      <td>2623.0</td>\n",
              "      <td>64010.0</td>\n",
              "      <td>26.0</td>\n",
              "      <td>87644.0</td>\n",
              "      <td>1141.0</td>\n",
              "      <td>766.0</td>\n",
              "      <td>2060.0</td>\n",
              "      <td>15982.0</td>\n",
              "      <td>8187.0</td>\n",
              "    </tr>\n",
              "    <tr>\n",
              "      <th>296</th>\n",
              "      <td>2020-10-22</td>\n",
              "      <td>41338627</td>\n",
              "      <td>40510.0</td>\n",
              "      <td>17948.0</td>\n",
              "      <td>55091.0</td>\n",
              "      <td>3811.0</td>\n",
              "      <td>8049.0</td>\n",
              "      <td>3.0</td>\n",
              "      <td>122.0</td>\n",
              "      <td>1037312.0</td>\n",
              "      <td>68530.0</td>\n",
              "      <td>4369.0</td>\n",
              "      <td>27444.0</td>\n",
              "      <td>70769.0</td>\n",
              "      <td>46593.0</td>\n",
              "      <td>6051.0</td>\n",
              "      <td>78907.0</td>\n",
              "      <td>393131.0</td>\n",
              "      <td>222.0</td>\n",
              "      <td>89642.0</td>\n",
              "      <td>NaN</td>\n",
              "      <td>2937.0</td>\n",
              "      <td>2557.0</td>\n",
              "      <td>188.0</td>\n",
              "      <td>332.0</td>\n",
              "      <td>140228.0</td>\n",
              "      <td>150.0</td>\n",
              "      <td>36315.0</td>\n",
              "      <td>5609.0</td>\n",
              "      <td>5298772.0</td>\n",
              "      <td>72.0</td>\n",
              "      <td>147.0</td>\n",
              "      <td>33335.0</td>\n",
              "      <td>2406.0</td>\n",
              "      <td>550.0</td>\n",
              "      <td>286.0</td>\n",
              "      <td>21570.0</td>\n",
              "      <td>206360.0</td>\n",
              "      <td>8033.0</td>\n",
              "      <td>235.0</td>\n",
              "      <td>...</td>\n",
              "      <td>33602.0</td>\n",
              "      <td>15983.0</td>\n",
              "      <td>3.0</td>\n",
              "      <td>3890.0</td>\n",
              "      <td>708359.0</td>\n",
              "      <td>25543.0</td>\n",
              "      <td>2870.0</td>\n",
              "      <td>1026281.0</td>\n",
              "      <td>5978.0</td>\n",
              "      <td>13724.0</td>\n",
              "      <td>5150.0</td>\n",
              "      <td>5805.0</td>\n",
              "      <td>108969.0</td>\n",
              "      <td>91763.0</td>\n",
              "      <td>5224.0</td>\n",
              "      <td>544.0</td>\n",
              "      <td>10613.0</td>\n",
              "      <td>509.0</td>\n",
              "      <td>3719.0</td>\n",
              "      <td>29.0</td>\n",
              "      <td>2120.0</td>\n",
              "      <td>5392.0</td>\n",
              "      <td>45892.0</td>\n",
              "      <td>353426.0</td>\n",
              "      <td>698.0</td>\n",
              "      <td>10933.0</td>\n",
              "      <td>315826.0</td>\n",
              "      <td>119132.0</td>\n",
              "      <td>789229.0</td>\n",
              "      <td>8336282.0</td>\n",
              "      <td>1343.0</td>\n",
              "      <td>2663.0</td>\n",
              "      <td>64335.0</td>\n",
              "      <td>26.0</td>\n",
              "      <td>88035.0</td>\n",
              "      <td>1145.0</td>\n",
              "      <td>766.0</td>\n",
              "      <td>2061.0</td>\n",
              "      <td>16000.0</td>\n",
              "      <td>8215.0</td>\n",
              "    </tr>\n",
              "    <tr>\n",
              "      <th>297</th>\n",
              "      <td>2020-10-23</td>\n",
              "      <td>41771932</td>\n",
              "      <td>40626.0</td>\n",
              "      <td>18250.0</td>\n",
              "      <td>55357.0</td>\n",
              "      <td>3811.0</td>\n",
              "      <td>8338.0</td>\n",
              "      <td>3.0</td>\n",
              "      <td>122.0</td>\n",
              "      <td>1053637.0</td>\n",
              "      <td>70836.0</td>\n",
              "      <td>4389.0</td>\n",
              "      <td>27466.0</td>\n",
              "      <td>73339.0</td>\n",
              "      <td>47418.0</td>\n",
              "      <td>6135.0</td>\n",
              "      <td>79211.0</td>\n",
              "      <td>394827.0</td>\n",
              "      <td>224.0</td>\n",
              "      <td>90380.0</td>\n",
              "      <td>NaN</td>\n",
              "      <td>2995.0</td>\n",
              "      <td>2557.0</td>\n",
              "      <td>188.0</td>\n",
              "      <td>336.0</td>\n",
              "      <td>140445.0</td>\n",
              "      <td>150.0</td>\n",
              "      <td>37314.0</td>\n",
              "      <td>5923.0</td>\n",
              "      <td>5323630.0</td>\n",
              "      <td>72.0</td>\n",
              "      <td>148.0</td>\n",
              "      <td>34930.0</td>\n",
              "      <td>2421.0</td>\n",
              "      <td>551.0</td>\n",
              "      <td>286.0</td>\n",
              "      <td>21570.0</td>\n",
              "      <td>209148.0</td>\n",
              "      <td>8122.0</td>\n",
              "      <td>236.0</td>\n",
              "      <td>...</td>\n",
              "      <td>35330.0</td>\n",
              "      <td>17651.0</td>\n",
              "      <td>3.0</td>\n",
              "      <td>3897.0</td>\n",
              "      <td>710515.0</td>\n",
              "      <td>25698.0</td>\n",
              "      <td>2872.0</td>\n",
              "      <td>NaN</td>\n",
              "      <td>6287.0</td>\n",
              "      <td>13724.0</td>\n",
              "      <td>5154.0</td>\n",
              "      <td>5814.0</td>\n",
              "      <td>NaN</td>\n",
              "      <td>96731.0</td>\n",
              "      <td>5267.0</td>\n",
              "      <td>548.0</td>\n",
              "      <td>10653.0</td>\n",
              "      <td>509.0</td>\n",
              "      <td>3727.0</td>\n",
              "      <td>29.0</td>\n",
              "      <td>2139.0</td>\n",
              "      <td>5446.0</td>\n",
              "      <td>45892.0</td>\n",
              "      <td>355528.0</td>\n",
              "      <td>698.0</td>\n",
              "      <td>11041.0</td>\n",
              "      <td>322879.0</td>\n",
              "      <td>120710.0</td>\n",
              "      <td>810467.0</td>\n",
              "      <td>8408340.0</td>\n",
              "      <td>1343.0</td>\n",
              "      <td>2701.0</td>\n",
              "      <td>64633.0</td>\n",
              "      <td>26.0</td>\n",
              "      <td>88416.0</td>\n",
              "      <td>1148.0</td>\n",
              "      <td>766.0</td>\n",
              "      <td>2061.0</td>\n",
              "      <td>16035.0</td>\n",
              "      <td>8242.0</td>\n",
              "    </tr>\n",
              "  </tbody>\n",
              "</table>\n",
              "<p>5 rows × 213 columns</p>\n",
              "</div>"
            ],
            "text/plain": [
              "           date     World  Afghanistan  ...   Yemen   Zambia  Zimbabwe\n",
              "293  2020-10-19  40168891      40200.0  ...  2059.0  15853.0    8147.0\n",
              "294  2020-10-20  40515637      40287.0  ...  2060.0  15897.0    8159.0\n",
              "295  2020-10-21  40901615      40375.0  ...  2060.0  15982.0    8187.0\n",
              "296  2020-10-22  41338627      40510.0  ...  2061.0  16000.0    8215.0\n",
              "297  2020-10-23  41771932      40626.0  ...  2061.0  16035.0    8242.0\n",
              "\n",
              "[5 rows x 213 columns]"
            ]
          },
          "metadata": {
            "tags": []
          },
          "execution_count": 84
        }
      ]
    },
    {
      "cell_type": "markdown",
      "metadata": {
        "id": "5vSVDpPO4LXL"
      },
      "source": [
        "As of 23 October 2020, there are almost 42 Million COVID cases world wide and has been spread throughout the world across all nations.\n",
        "\n",
        "On March 11, 2020, World Health Organization declared COVID 19 as a global pandemic"
      ]
    },
    {
      "cell_type": "markdown",
      "metadata": {
        "id": "yzJWvCSF8Jfb"
      },
      "source": [
        "**GLOBAL IMPACT**"
      ]
    },
    {
      "cell_type": "code",
      "metadata": {
        "id": "qwwv1AQ-8fqO",
        "outputId": "3842538d-f439-43aa-eb01-efe9031cae0a",
        "colab": {
          "base_uri": "https://localhost:8080/",
          "height": 34
        }
      },
      "source": [
        "#THE NUMBER OF CONFIRMED COVID CASES IN THE WORLD RIGHT NOW \n",
        "df['World'][297]"
      ],
      "execution_count": 85,
      "outputs": [
        {
          "output_type": "execute_result",
          "data": {
            "text/plain": [
              "41771932"
            ]
          },
          "metadata": {
            "tags": []
          },
          "execution_count": 85
        }
      ]
    },
    {
      "cell_type": "code",
      "metadata": {
        "id": "a4hnl-Iq7VRG",
        "outputId": "79727aa9-2b24-416b-9008-910d83c820e5",
        "colab": {
          "base_uri": "https://localhost:8080/",
          "height": 312
        }
      },
      "source": [
        "df['World'].plot(kind = 'area', title = 'GLOBAL COVID GRAPH', label = 'Number of wins',color='r')\n",
        "plt.xlabel('Number of days') \n",
        "plt.ylabel('Number of cases in Ten Millions') "
      ],
      "execution_count": 86,
      "outputs": [
        {
          "output_type": "execute_result",
          "data": {
            "text/plain": [
              "Text(0, 0.5, 'Number of cases in Ten Millions')"
            ]
          },
          "metadata": {
            "tags": []
          },
          "execution_count": 86
        },
        {
          "output_type": "display_data",
          "data": {
            "image/png": "[encoded data removed]",
            "text/plain": [
              "<Figure size 432x288 with 1 Axes>"
            ]
          },
          "metadata": {
            "tags": [],
            "needs_background": "light"
          }
        }
      ]
    },
    {
      "cell_type": "markdown",
      "metadata": {
        "id": "LsUnzS0PHL4U"
      },
      "source": [
        "*Fresh Cases Per Day Globally*"
      ]
    },
    {
      "cell_type": "code",
      "metadata": {
        "id": "07hGD_JkGF35",
        "outputId": "a45e91f9-b5c6-4c07-d8f2-5c3383e0e45f",
        "colab": {
          "base_uri": "https://localhost:8080/",
          "height": 296
        }
      },
      "source": [
        "newcases_world=[]\n",
        "for i in range(297):\n",
        "  newcases_world.append(df['World'][i+1]-df['World'][i])\n",
        "plt.plot(newcases_world, color='r')\n",
        "plt.xlabel('Number of days') \n",
        "plt.ylabel('Number of new cases')"
      ],
      "execution_count": 87,
      "outputs": [
        {
          "output_type": "execute_result",
          "data": {
            "text/plain": [
              "Text(0, 0.5, 'Number of new cases')"
            ]
          },
          "metadata": {
            "tags": []
          },
          "execution_count": 87
        },
        {
          "output_type": "display_data",
          "data": {
            "image/png": "[encoded data removed]",
            "text/plain": [
              "<Figure size 432x288 with 1 Axes>"
            ]
          },
          "metadata": {
            "tags": [],
            "needs_background": "light"
          }
        }
      ]
    },
    {
      "cell_type": "markdown",
      "metadata": {
        "id": "vUHZGcBu8TgM"
      },
      "source": [
        "**IMPACT ON INDIA**"
      ]
    },
    {
      "cell_type": "code",
      "metadata": {
        "id": "7yRkIRXw5a9i",
        "outputId": "f5e76ca6-e121-4808-ee3d-2cab7857333a",
        "colab": {
          "base_uri": "https://localhost:8080/",
          "height": 34
        }
      },
      "source": [
        "#THE NUMBER OF CONFIRMED COVID CASES IN INDIA \n",
        "df['India'][297]"
      ],
      "execution_count": 88,
      "outputs": [
        {
          "output_type": "execute_result",
          "data": {
            "text/plain": [
              "7761312.0"
            ]
          },
          "metadata": {
            "tags": []
          },
          "execution_count": 88
        }
      ]
    },
    {
      "cell_type": "markdown",
      "metadata": {
        "id": "YLRLnG691MbF"
      },
      "source": [
        "As of 23 October 2020, there are almost 7.77 Million COVID cases in India"
      ]
    },
    {
      "cell_type": "code",
      "metadata": {
        "id": "uREvmw7g1djE",
        "outputId": "f04a244e-0a92-4e3d-be9e-9f187ba85ba6",
        "colab": {
          "base_uri": "https://localhost:8080/",
          "height": 312
        }
      },
      "source": [
        "df['India'].plot(kind = 'area', title = 'COVID GRAPH INDIA', color='b')\n",
        "plt.xlabel('Number of days') \n",
        "plt.ylabel('Number of cases in Millions') "
      ],
      "execution_count": 89,
      "outputs": [
        {
          "output_type": "execute_result",
          "data": {
            "text/plain": [
              "Text(0, 0.5, 'Number of cases in Millions')"
            ]
          },
          "metadata": {
            "tags": []
          },
          "execution_count": 89
        },
        {
          "output_type": "display_data",
          "data": {
            "image/png": "[encoded data removed]",
            "text/plain": [
              "<Figure size 432x288 with 1 Axes>"
            ]
          },
          "metadata": {
            "tags": [],
            "needs_background": "light"
          }
        }
      ]
    },
    {
      "cell_type": "markdown",
      "metadata": {
        "id": "7a5zuib_G7H4"
      },
      "source": [
        "*Fresh Cases Per Day in India*"
      ]
    },
    {
      "cell_type": "code",
      "metadata": {
        "id": "QqrepRWiEB55",
        "outputId": "7ef4d1dd-7d7a-4ced-95ca-0d0e1ea642ed",
        "colab": {
          "base_uri": "https://localhost:8080/",
          "height": 296
        }
      },
      "source": [
        "newcases_india=[]\n",
        "for i in range(297):\n",
        "  newcases_india.append(df['India'][i+1]-df['India'][i])\n",
        "plt.plot(newcases_india)\n",
        "plt.xlabel('Number of days') \n",
        "plt.ylabel('Number of new cases')"
      ],
      "execution_count": 90,
      "outputs": [
        {
          "output_type": "execute_result",
          "data": {
            "text/plain": [
              "Text(0, 0.5, 'Number of new cases')"
            ]
          },
          "metadata": {
            "tags": []
          },
          "execution_count": 90
        },
        {
          "output_type": "display_data",
          "data": {
            "image/png": "[encoded data removed]",
            "text/plain": [
              "<Figure size 432x288 with 1 Axes>"
            ]
          },
          "metadata": {
            "tags": [],
            "needs_background": "light"
          }
        }
      ]
    },
    {
      "cell_type": "markdown",
      "metadata": {
        "id": "HYtsTRN7IfuR"
      },
      "source": [
        "**IMPACT ON USA**"
      ]
    },
    {
      "cell_type": "code",
      "metadata": {
        "id": "6m1yF2zQIj4v",
        "outputId": "c138b04a-cdb4-4fc5-8826-db015d6f1c1c",
        "colab": {
          "base_uri": "https://localhost:8080/",
          "height": 34
        }
      },
      "source": [
        "#THE NUMBER OF CONFIRMED COVID CASES IN USA\n",
        "df['United States'][297]"
      ],
      "execution_count": 93,
      "outputs": [
        {
          "output_type": "execute_result",
          "data": {
            "text/plain": [
              "8408340.0"
            ]
          },
          "metadata": {
            "tags": []
          },
          "execution_count": 93
        }
      ]
    },
    {
      "cell_type": "markdown",
      "metadata": {
        "id": "nWSDWOQeJFMw"
      },
      "source": [
        "As of 23 October 2020, there are more than 8.4 Million COVID cases in USA"
      ]
    },
    {
      "cell_type": "code",
      "metadata": {
        "id": "ajSRiP4MIoGv",
        "outputId": "aed3e221-7155-4990-f117-527f4ada43a3",
        "colab": {
          "base_uri": "https://localhost:8080/",
          "height": 312
        }
      },
      "source": [
        "df['United States'].plot(kind = 'area', title = 'COVID GRAPH USA', color='c')\n",
        "plt.xlabel('Number of days') \n",
        "plt.ylabel('Number of cases in Millions') "
      ],
      "execution_count": 98,
      "outputs": [
        {
          "output_type": "execute_result",
          "data": {
            "text/plain": [
              "Text(0, 0.5, 'Number of cases in Millions')"
            ]
          },
          "metadata": {
            "tags": []
          },
          "execution_count": 98
        },
        {
          "output_type": "display_data",
          "data": {
            "image/png": "[encoded data removed]",
            "text/plain": [
              "<Figure size 432x288 with 1 Axes>"
            ]
          },
          "metadata": {
            "tags": [],
            "needs_background": "light"
          }
        }
      ]
    },
    {
      "cell_type": "markdown",
      "metadata": {
        "id": "aEyYTRq3J5Aq"
      },
      "source": [
        "*Fresh Cases Per Day in USA*"
      ]
    },
    {
      "cell_type": "code",
      "metadata": {
        "id": "RQfcQ94lKCoU",
        "outputId": "f0d44ab5-a002-42bb-c5d0-d99d9ee11519",
        "colab": {
          "base_uri": "https://localhost:8080/",
          "height": 296
        }
      },
      "source": [
        "newcases_us=[]\n",
        "for i in range(297):\n",
        "  newcases_us.append(df['United States'][i+1]-df['United States'][i])\n",
        "plt.plot(newcases_us,color='c')\n",
        "plt.xlabel('Number of days') \n",
        "plt.ylabel('Number of new cases')"
      ],
      "execution_count": 100,
      "outputs": [
        {
          "output_type": "execute_result",
          "data": {
            "text/plain": [
              "Text(0, 0.5, 'Number of new cases')"
            ]
          },
          "metadata": {
            "tags": []
          },
          "execution_count": 100
        },
        {
          "output_type": "display_data",
          "data": {
            "image/png": "[encoded data removed]",
            "text/plain": [
              "<Figure size 432x288 with 1 Axes>"
            ]
          },
          "metadata": {
            "tags": [],
            "needs_background": "light"
          }
        }
      ]
    },
    {
      "cell_type": "markdown",
      "metadata": {
        "id": "zFzdocWWKY-H"
      },
      "source": [
        "**IMPACT ON CHINA**"
      ]
    },
    {
      "cell_type": "code",
      "metadata": {
        "id": "lrUnCIxMKoK0",
        "outputId": "54c4d8b5-9ed3-47a1-bf05-acc75f02ce7e",
        "colab": {
          "base_uri": "https://localhost:8080/",
          "height": 34
        }
      },
      "source": [
        "#THE NUMBER OF CONFIRMED COVID CASES IN CHINA \n",
        "df['China'][297]"
      ],
      "execution_count": 101,
      "outputs": [
        {
          "output_type": "execute_result",
          "data": {
            "text/plain": [
              "91073"
            ]
          },
          "metadata": {
            "tags": []
          },
          "execution_count": 101
        }
      ]
    },
    {
      "cell_type": "markdown",
      "metadata": {
        "id": "p728KdL0KviU"
      },
      "source": [
        "As of 23 Oct 2020, China has still less than 100k cases"
      ]
    },
    {
      "cell_type": "code",
      "metadata": {
        "id": "KEU7MTuOKygS",
        "outputId": "f844568e-eca5-499f-c775-3cd15db64383",
        "colab": {
          "base_uri": "https://localhost:8080/",
          "height": 312
        }
      },
      "source": [
        "df['China'].plot(kind = 'area', title = 'COVID GRAPH China', color='y')\n",
        "plt.xlabel('Number of days') \n",
        "plt.ylabel('Number of cases in Millions') "
      ],
      "execution_count": 102,
      "outputs": [
        {
          "output_type": "execute_result",
          "data": {
            "text/plain": [
              "Text(0, 0.5, 'Number of cases in Millions')"
            ]
          },
          "metadata": {
            "tags": []
          },
          "execution_count": 102
        },
        {
          "output_type": "display_data",
          "data": {
            "image/png": "[encoded data removed]",
            "text/plain": [
              "<Figure size 432x288 with 1 Axes>"
            ]
          },
          "metadata": {
            "tags": [],
            "needs_background": "light"
          }
        }
      ]
    },
    {
      "cell_type": "markdown",
      "metadata": {
        "id": "Io5C39JzNGR3"
      },
      "source": [
        "*Fresh Cases per Day in China*"
      ]
    },
    {
      "cell_type": "code",
      "metadata": {
        "id": "V-Z_L_ahKjsT",
        "outputId": "a869da5a-307b-455f-debc-28ad3cdfbbda",
        "colab": {
          "base_uri": "https://localhost:8080/",
          "height": 296
        }
      },
      "source": [
        "newcases_china=[]\n",
        "for i in range(297):\n",
        "  newcases_china.append(df['China'][i+1]-df['China'][i])\n",
        "plt.plot(newcases_china,color='y')\n",
        "plt.xlabel('Number of days') \n",
        "plt.ylabel('Number of new cases')"
      ],
      "execution_count": 103,
      "outputs": [
        {
          "output_type": "execute_result",
          "data": {
            "text/plain": [
              "Text(0, 0.5, 'Number of new cases')"
            ]
          },
          "metadata": {
            "tags": []
          },
          "execution_count": 103
        },
        {
          "output_type": "display_data",
          "data": {
            "image/png": "[encoded data removed]",
            "text/plain": [
              "<Figure size 432x288 with 1 Axes>"
            ]
          },
          "metadata": {
            "tags": [],
            "needs_background": "light"
          }
        }
      ]
    }
  ]
}